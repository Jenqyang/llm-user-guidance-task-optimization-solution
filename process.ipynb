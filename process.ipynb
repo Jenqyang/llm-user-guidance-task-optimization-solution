{
 "cells": [
  {
   "cell_type": "code",
   "execution_count": 2,
   "metadata": {},
   "outputs": [],
   "source": [
    "from src.utils import *\n",
    "import os\n",
    "import tqdm\n",
    "import re\n",
    "import json"
   ]
  },
  {
   "cell_type": "code",
   "execution_count": 3,
   "metadata": {},
   "outputs": [],
   "source": [
    "def get_fig_path(file_path):\n",
    "    fig_path = []\n",
    "    for root, dirs, files in os.walk(file_path):\n",
    "        for file in files:\n",
    "            if file.endswith(\".png\") or file.endswith(\"fig\"):\n",
    "                fig_path.append(os.path.join(root, file))\n",
    "    return fig_path\n",
    "\n",
    "def save_questions(content, file_path):\n",
    "    if \"1)\" in content:\n",
    "        questions = re.split(r'\\d+\\)', content)[1:]\n",
    "    elif \"1.\" in content:\n",
    "        questions = re.split(r'\\d+\\.', content)[1:]\n",
    "    else:\n",
    "        print(\"Error: No question number found in the content. PLEASE CHECK!\")\n",
    "    # Remove text spaces and escape characters\n",
    "    questions = [q.strip() for q in questions if q.strip()]\n",
    "    with open(file_path, 'a+') as file:\n",
    "        for question in questions:\n",
    "            # Formatting the question\n",
    "            formatted_question = f\"<s>[INST] {question if question.endswith('?') else question + '?'} [/INST] \\n\"\n",
    "            # Creating a dictionary\n",
    "            question_dict = {\"text\": formatted_question}\n",
    "            # Writing the dictionary as a JSON line in the file\n",
    "            file.write(json.dumps(question_dict) + '\\n')"
   ]
  },
  {
   "cell_type": "markdown",
   "metadata": {},
   "source": [
    "### Step-1: Problem generation"
   ]
  },
  {
   "cell_type": "code",
   "execution_count": 4,
   "metadata": {},
   "outputs": [
    {
     "name": "stderr",
     "output_type": "stream",
     "text": [
      "  0%|          | 0/8 [00:00<?, ?it/s]"
     ]
    },
    {
     "name": "stderr",
     "output_type": "stream",
     "text": [
      "100%|██████████| 8/8 [02:06<00:00, 15.76s/it]\n"
     ]
    }
   ],
   "source": [
    "fig_path = get_fig_path('./input_img/')\n",
    "for img_path in tqdm.tqdm(fig_path):\n",
    "    img_url = f\"data:image/jpeg;base64,{encode_image(img_path)}\"\n",
    "    # Change the prompt according to your product\n",
    "    messages = [{\"role\": \"user\",\"content\": [{\"type\": \"text\", \"text\": \"Assuming you are a novice user facing the webpage of an AI painting platform named 'Maze.Guru', please list the 8 most likely questions a novice user would ask about user operations or product information.\",},\n",
    "                                            {\"type\": \"image_url\",\"image_url\": {\"url\": img_url}}]}]\n",
    "    content = create_chat_completion(\"cogagent-vqa-18b\", messages=messages, use_stream=False)\n",
    "    # Save in the same directory\n",
    "    if \"png\" in img_path:\n",
    "        save_path = img_path.replace('.png', '.jsonl')\n",
    "    elif \"fig\" in img_path:\n",
    "        save_path = img_path.replace('.fig', '.jsonl')\n",
    "    save_questions(content, save_path)"
   ]
  },
  {
   "cell_type": "markdown",
   "metadata": {},
   "source": [
    "### Step-2: Question answer generation"
   ]
  },
  {
   "cell_type": "code",
   "execution_count": 5,
   "metadata": {},
   "outputs": [
    {
     "name": "stderr",
     "output_type": "stream",
     "text": [
      "  0%|          | 0/8 [00:00<?, ?it/s]"
     ]
    },
    {
     "name": "stderr",
     "output_type": "stream",
     "text": [
      "100%|██████████| 8/8 [05:04<00:00, 38.07s/it]\n"
     ]
    }
   ],
   "source": [
    "fig_path = get_fig_path('./input_img/')\n",
    "flag = True\n",
    "for img_path in tqdm.tqdm(fig_path):\n",
    "    img_url = f\"data:image/jpeg;base64,{encode_image(img_path)}\"\n",
    "    if \"png\" in img_path:\n",
    "        question_path = img_path.replace('.png', '.jsonl')\n",
    "    elif \"fig\" in img_path:\n",
    "        question_path = img_path.replace('.fig', '.jsonl')\n",
    "    questions = read_jsonl(question_path)\n",
    "    for i in range(len(questions)):\n",
    "        messages = [{\"role\": \"user\",\"content\": [{\"type\": \"text\", \"text\": re.findall(r'\\[INST\\]\\ (.*?)\\ \\[/INST\\]', questions[i]['text'])[0] + \"\\nIf unable to answer, please reply directly 'Sorry, I don't know.'\",},\n",
    "                                                {\"type\": \"image_url\",\"image_url\": {\"url\": img_url}}]}]\n",
    "        content = create_chat_completion(\"cogagent-vqa-18b\", messages=messages, use_stream=False)\n",
    "        questions[i]['text'] = questions[i]['text'] + \" \" + content + \"</s>\"\n",
    "    if flag:\n",
    "        qa = questions\n",
    "        flag = False\n",
    "    else:\n",
    "        qa = qa + questions\n",
    "    write_jsonl(\"./output_dataset.jsonl\", qa)\n"
   ]
  },
  {
   "cell_type": "markdown",
   "metadata": {},
   "source": [
    "### Step-3: Clean QA"
   ]
  },
  {
   "cell_type": "code",
   "execution_count": 6,
   "metadata": {},
   "outputs": [],
   "source": [
    "qa = read_jsonl(\"./output_dataset.jsonl\")\n",
    "qa_new = []\n",
    "for i in range(len(qa)):\n",
    "    if \"Sorry\" in qa[i]['text'] or \"image does not\" in qa[i]['text'] or \"image doesn't\" in qa[i]['text']:\n",
    "        # Remove the question if the answer is not available\n",
    "        continue\n",
    "    else:\n",
    "        qa_new.append(qa[i])\n",
    "write_jsonl(\"./output_dataset.jsonl\", qa_new)"
   ]
  },
  {
   "cell_type": "markdown",
   "metadata": {},
   "source": [
    "### Step-4: FineTuning"
   ]
  },
  {
   "cell_type": "code",
   "execution_count": null,
   "metadata": {},
   "outputs": [],
   "source": []
  }
 ],
 "metadata": {
  "kernelspec": {
   "display_name": "base",
   "language": "python",
   "name": "python3"
  },
  "language_info": {
   "codemirror_mode": {
    "name": "ipython",
    "version": 3
   },
   "file_extension": ".py",
   "mimetype": "text/x-python",
   "name": "python",
   "nbconvert_exporter": "python",
   "pygments_lexer": "ipython3",
   "version": "3.11.5"
  }
 },
 "nbformat": 4,
 "nbformat_minor": 2
}
